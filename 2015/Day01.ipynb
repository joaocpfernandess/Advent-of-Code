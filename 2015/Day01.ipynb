{
 "cells": [
  {
   "cell_type": "markdown",
   "id": "42c866f5",
   "metadata": {},
   "source": [
    "### Part 1"
   ]
  },
  {
   "cell_type": "code",
   "execution_count": 9,
   "id": "c4f8b276",
   "metadata": {},
   "outputs": [
    {
     "name": "stdout",
     "output_type": "stream",
     "text": [
      "FINAL ANSWER: 74\n"
     ]
    }
   ],
   "source": [
    "file = open('Inputs/input_day01.txt', 'r')\n",
    "\n",
    "string = file.read()\n",
    "floor = string.count('(') - string.count(')')\n",
    "\n",
    "print(f\"FINAL ANSWER: {floor}\")"
   ]
  },
  {
   "cell_type": "markdown",
   "id": "ec90cbc8",
   "metadata": {},
   "source": [
    "### Part 2"
   ]
  },
  {
   "cell_type": "code",
   "execution_count": 11,
   "id": "149edb82",
   "metadata": {},
   "outputs": [
    {
     "name": "stdout",
     "output_type": "stream",
     "text": [
      "FINAL ANSWER: 1795\n"
     ]
    }
   ],
   "source": [
    "file = open('Inputs/input_day01.txt', 'r')\n",
    "\n",
    "\n",
    "string = file.read()\n",
    "floor = 0\n",
    "for i, char in enumerate(string):\n",
    "    floor = floor + 1 if char == '(' else floor - 1\n",
    "    if floor == -1:\n",
    "        pos = i + 1\n",
    "        break\n",
    "        \n",
    "        \n",
    "print(f\"FINAL ANSWER: {pos}\")"
   ]
  }
 ],
 "metadata": {
  "kernelspec": {
   "display_name": "Python 3 (ipykernel)",
   "language": "python",
   "name": "python3"
  },
  "language_info": {
   "codemirror_mode": {
    "name": "ipython",
    "version": 3
   },
   "file_extension": ".py",
   "mimetype": "text/x-python",
   "name": "python",
   "nbconvert_exporter": "python",
   "pygments_lexer": "ipython3",
   "version": "3.9.7"
  }
 },
 "nbformat": 4,
 "nbformat_minor": 5
}
