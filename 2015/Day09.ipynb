{
 "cells": [
  {
   "cell_type": "code",
   "execution_count": 3,
   "id": "47ab9d3b",
   "metadata": {},
   "outputs": [],
   "source": [
    "import numpy as np\n",
    "import itertools"
   ]
  },
  {
   "cell_type": "markdown",
   "id": "58d674bd",
   "metadata": {},
   "source": [
    "# Part 1"
   ]
  },
  {
   "cell_type": "code",
   "execution_count": 9,
   "id": "cdb7f5b0",
   "metadata": {
    "scrolled": true
   },
   "outputs": [
    {
     "data": {
      "text/plain": [
       "207.0"
      ]
     },
     "execution_count": 9,
     "metadata": {},
     "output_type": "execute_result"
    }
   ],
   "source": [
    "file = open('Inputs/input_day09.txt', 'r')\n",
    "\n",
    "\n",
    "dist_matrix = np.zeros((0,0))\n",
    "indexes = []\n",
    "for line in file:\n",
    "    cities, dist = line[:-1].split(' = ')\n",
    "    city1, city2 = cities.split(' to ')\n",
    "    if city1 not in indexes:\n",
    "        indexes.append(city1)\n",
    "        n = len(indexes)\n",
    "        dist_matrix.resize((n, n))\n",
    "    i = indexes.index(city1)\n",
    "    if city2 not in indexes:\n",
    "        indexes.append(city2)\n",
    "        n = len(indexes)\n",
    "        dist_matrix.resize((n, n))\n",
    "    j = indexes.index(city2)\n",
    "    dist_matrix[i,j] = int(dist)\n",
    "    \n",
    "    \n",
    "n_cities = len(indexes)\n",
    "permutations = list(itertools.permutations([i for i in range(n_cities)]))\n",
    "distances = []\n",
    "for order in permutations:\n",
    "    s = 0\n",
    "    for i, node in enumerate(order[:-1]):\n",
    "        s += max(dist_matrix[node, order[i+1]], dist_matrix[order[i+1], node])\n",
    "    distances.append(s)\n",
    "    \n",
    "    \n",
    "print(f\"FINAL ANSWER: {min(distances)}\")"
   ]
  },
  {
   "cell_type": "markdown",
   "id": "bc94fda9",
   "metadata": {},
   "source": [
    "# Part 2"
   ]
  },
  {
   "cell_type": "code",
   "execution_count": 10,
   "id": "db85cc9d",
   "metadata": {},
   "outputs": [
    {
     "name": "stdout",
     "output_type": "stream",
     "text": [
      "FINAL ANSWER: 804.0\n"
     ]
    }
   ],
   "source": [
    "file = open('Inputs/input_day09.txt', 'r')\n",
    "\n",
    "\n",
    "\n",
    "print(f\"FINAL ANSWER: {max(distances)}\")"
   ]
  }
 ],
 "metadata": {
  "kernelspec": {
   "display_name": "Python 3 (ipykernel)",
   "language": "python",
   "name": "python3"
  },
  "language_info": {
   "codemirror_mode": {
    "name": "ipython",
    "version": 3
   },
   "file_extension": ".py",
   "mimetype": "text/x-python",
   "name": "python",
   "nbconvert_exporter": "python",
   "pygments_lexer": "ipython3",
   "version": "3.9.7"
  }
 },
 "nbformat": 4,
 "nbformat_minor": 5
}
