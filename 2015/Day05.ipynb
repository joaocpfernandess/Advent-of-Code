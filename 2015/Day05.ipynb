{
 "cells": [
  {
   "cell_type": "markdown",
   "id": "cab45ec4",
   "metadata": {},
   "source": [
    "### Part 1"
   ]
  },
  {
   "cell_type": "code",
   "execution_count": 33,
   "id": "fb596e69",
   "metadata": {},
   "outputs": [
    {
     "name": "stdout",
     "output_type": "stream",
     "text": [
      "FINAL ANSWER: 236\n"
     ]
    }
   ],
   "source": [
    "file = open('Inputs/input_day05.txt', 'r')\n",
    "\n",
    "\n",
    "nice_strings = 0\n",
    "naughty_strings = 0\n",
    "for line in file:\n",
    "    no_forbidden_subs, has_dup, has_vowels = False, False, False\n",
    "    if all([sub not in line[:-1] for sub in ['ab', 'cd', 'pq', 'xy']]):\n",
    "        no_forbidden_subs = True\n",
    "    for i in range(len(line[:-2])):\n",
    "        if line[i] == line[i+1]:\n",
    "            has_dup = True\n",
    "            break\n",
    "    if sum([line[:-1].count(vowel) for vowel in ['a', 'e', 'i', 'o', 'u']]) >= 3:\n",
    "        has_vowels = True\n",
    "    if all([no_forbidden_subs, has_dup, has_vowels]):\n",
    "        nice_strings += 1\n",
    "            \n",
    "            \n",
    "print(f\"FINAL ANSWER: {nice_strings}\")"
   ]
  },
  {
   "cell_type": "markdown",
   "id": "cd0caaad",
   "metadata": {},
   "source": [
    "### Part 2"
   ]
  },
  {
   "cell_type": "code",
   "execution_count": 83,
   "id": "15fc821c",
   "metadata": {
    "scrolled": true
   },
   "outputs": [
    {
     "name": "stdout",
     "output_type": "stream",
     "text": [
      "FINAL ANSWER: 51\n"
     ]
    }
   ],
   "source": [
    "file = open('Inputs/input_day05.txt', 'r')\n",
    "\n",
    "\n",
    "nice_strings = 0\n",
    "for line in file:\n",
    "    line = line[:-1]\n",
    "    has_dup, has_pair_twice = False, False\n",
    "    pairs = []\n",
    "    for i, char in enumerate(line[:-2]):\n",
    "        pairs.append(char+line[i+1])\n",
    "        if char == line[i+2]:\n",
    "            has_dup = True\n",
    "    pairs.append(line[i+1]+line[i+2])\n",
    "    for i, pair in enumerate(pairs):\n",
    "        copy = pairs.copy()\n",
    "        sliced = copy[:max(i-1,0)] + copy[i+2:]\n",
    "        if pair in sliced:\n",
    "            has_pair_twice = True\n",
    "            break \n",
    "    if has_dup and has_pair_twice:\n",
    "        nice_strings += 1\n",
    "            \n",
    "            \n",
    "print(f\"FINAL ANSWER: {nice_strings}\")"
   ]
  }
 ],
 "metadata": {
  "kernelspec": {
   "display_name": "Python 3 (ipykernel)",
   "language": "python",
   "name": "python3"
  },
  "language_info": {
   "codemirror_mode": {
    "name": "ipython",
    "version": 3
   },
   "file_extension": ".py",
   "mimetype": "text/x-python",
   "name": "python",
   "nbconvert_exporter": "python",
   "pygments_lexer": "ipython3",
   "version": "3.9.7"
  }
 },
 "nbformat": 4,
 "nbformat_minor": 5
}
