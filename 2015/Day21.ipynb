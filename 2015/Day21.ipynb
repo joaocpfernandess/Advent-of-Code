{
 "cells": [
  {
   "cell_type": "code",
   "execution_count": 2,
   "id": "171dcbbd",
   "metadata": {},
   "outputs": [],
   "source": [
    "import itertools"
   ]
  },
  {
   "cell_type": "markdown",
   "id": "0127edd1",
   "metadata": {},
   "source": [
    "# Part 1"
   ]
  },
  {
   "cell_type": "code",
   "execution_count": 14,
   "id": "87efce4a",
   "metadata": {},
   "outputs": [
    {
     "name": "stdout",
     "output_type": "stream",
     "text": [
      "FINAL ANSWER: 91\n"
     ]
    }
   ],
   "source": [
    "boss_hp = 100\n",
    "boss_dmg = 8\n",
    "boss_arm = 2\n",
    "player_hp = 100\n",
    "\n",
    "\n",
    "weapons = {'Dagger': [8, 4, 0], 'Shortsword':[10, 5, 0], 'Warhammer': [25, 6, 0], 'Longsword': [40, 7, 0], 'Greataxe': [74, 8, 0]}\n",
    "armor = {'None': [0, 0, 0], 'Leather': [13, 0, 1], 'Chainmail': [31, 0, 2], 'Splintmail': [53, 0, 3], 'Bandedmail': [75, 0, 4], 'Platemail': [102, 0, 5]}\n",
    "rings = {'None': [0,0,0], 'NaN': [0,0,0], 'Dmg1' : [25, 1, 0], 'Dmg2' : [50, 2, 0], 'Dmg3' : [100, 3, 0], 'Def1' : [20, 0, 1], 'Def2' : [40, 0, 2], 'Def3' : [80, 0, 3]}\n",
    "\n",
    "\n",
    "won_simulations = []\n",
    "lost_simulations = []\n",
    "for w in weapons:\n",
    "    for a in armor:\n",
    "        for r in set(itertools.combinations(rings, 2)):\n",
    "            cost = weapons[w][0] + armor[a][0] + rings[r[0]][0] + rings[r[1]][0]\n",
    "            player_dmg = weapons[w][1] + rings[r[0]][1] + rings[r[1]][1]\n",
    "            player_arm = armor[a][2] + rings[r[0]][2] + rings[r[1]][2]\n",
    "            if player_dmg - boss_arm >= boss_dmg - player_arm:\n",
    "                won_simulations.append(cost)\n",
    "            else:\n",
    "                lost_simulations.append(cost)\n",
    "                \n",
    "                \n",
    "print(f\"FINAL ANSWER: {min(won_simulations)}\")"
   ]
  },
  {
   "cell_type": "markdown",
   "id": "23089502",
   "metadata": {},
   "source": [
    "# Part 2"
   ]
  },
  {
   "cell_type": "code",
   "execution_count": 15,
   "id": "4f15f6b8",
   "metadata": {},
   "outputs": [
    {
     "name": "stdout",
     "output_type": "stream",
     "text": [
      "FINAL ANSWER: 158\n"
     ]
    }
   ],
   "source": [
    "print(f\"FINAL ANSWER: {max(lost_simulations)}\")"
   ]
  }
 ],
 "metadata": {
  "kernelspec": {
   "display_name": "Python 3 (ipykernel)",
   "language": "python",
   "name": "python3"
  },
  "language_info": {
   "codemirror_mode": {
    "name": "ipython",
    "version": 3
   },
   "file_extension": ".py",
   "mimetype": "text/x-python",
   "name": "python",
   "nbconvert_exporter": "python",
   "pygments_lexer": "ipython3",
   "version": "3.9.7"
  }
 },
 "nbformat": 4,
 "nbformat_minor": 5
}
