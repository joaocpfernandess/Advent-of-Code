{
 "cells": [
  {
   "cell_type": "markdown",
   "id": "ec5d038b",
   "metadata": {},
   "source": [
    "### Part 1"
   ]
  },
  {
   "cell_type": "code",
   "execution_count": 4,
   "id": "c62686c7",
   "metadata": {},
   "outputs": [
    {
     "name": "stdout",
     "output_type": "stream",
     "text": [
      "FINAL ANSWER: 1588178\n"
     ]
    }
   ],
   "source": [
    "file = open('Inputs/input_day02.txt', 'r')\n",
    "\n",
    "\n",
    "total = 0\n",
    "for line in file:\n",
    "    nums = [int(n) for n in line[:-1].split('x')]\n",
    "    prods = sorted([nums[0]*nums[1], nums[0]*nums[2], nums[1]*nums[2]])\n",
    "    total += 3*prods[0] + 2*prods[1] + 2*prods[2]\n",
    "    \n",
    "    \n",
    "print(f\"FINAL ANSWER: {total}\")"
   ]
  },
  {
   "cell_type": "markdown",
   "id": "7583cebe",
   "metadata": {},
   "source": [
    "### Part 2"
   ]
  },
  {
   "cell_type": "code",
   "execution_count": 6,
   "id": "5b7bc487",
   "metadata": {},
   "outputs": [
    {
     "name": "stdout",
     "output_type": "stream",
     "text": [
      "FINAL ANSWER: 3783758\n"
     ]
    }
   ],
   "source": [
    "file = open('Inputs/input_day02.txt', 'r')\n",
    "\n",
    "\n",
    "total = 0\n",
    "for line in file:\n",
    "    nums = [int(n) for n in line[:-1].split('x')]\n",
    "    perims = sorted([nums[0]+nums[1], nums[0]+nums[2], nums[1]+nums[2]])\n",
    "    total += 2*perims[0] + nums[0]*nums[1]*nums[2] \n",
    "    \n",
    "    \n",
    "print(f\"FINAL ANSWER: {total}\")"
   ]
  }
 ],
 "metadata": {
  "kernelspec": {
   "display_name": "Python 3 (ipykernel)",
   "language": "python",
   "name": "python3"
  },
  "language_info": {
   "codemirror_mode": {
    "name": "ipython",
    "version": 3
   },
   "file_extension": ".py",
   "mimetype": "text/x-python",
   "name": "python",
   "nbconvert_exporter": "python",
   "pygments_lexer": "ipython3",
   "version": "3.9.7"
  }
 },
 "nbformat": 4,
 "nbformat_minor": 5
}
