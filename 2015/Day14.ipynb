{
 "cells": [
  {
   "cell_type": "code",
   "execution_count": 42,
   "id": "907f92ab",
   "metadata": {},
   "outputs": [],
   "source": [
    "import numpy as np"
   ]
  },
  {
   "cell_type": "markdown",
   "id": "09274186",
   "metadata": {},
   "source": [
    "# Part 1"
   ]
  },
  {
   "cell_type": "code",
   "execution_count": 50,
   "id": "2bc1ccfc",
   "metadata": {},
   "outputs": [
    {
     "name": "stdout",
     "output_type": "stream",
     "text": [
      "FINAL ANSWER: 2660\n"
     ]
    }
   ],
   "source": [
    "file = open(\"Inputs/input_day14.txt\", 'r')\n",
    "\n",
    "\n",
    "reindeers = {}\n",
    "for line in file:\n",
    "    split = line[:-1].split()\n",
    "    speed, duration, rest = int(split[3]), int(split[6]), int(split[-2])\n",
    "    reach = speed * duration\n",
    "    mod = duration + rest\n",
    "    reindeers[split[0]] = [speed, duration, rest, reach, mod]\n",
    "    \n",
    "\n",
    "limit = 2503\n",
    "distances = []\n",
    "for r in reindeers:\n",
    "    speed, duration, reach, mod = reindeers[r][0], reindeers[r][1], reindeers[r][3], reindeers[r][4]\n",
    "    n_cycles = limit // mod\n",
    "    remainder = limit % mod\n",
    "    remainder_reach = min(duration, remainder) * speed\n",
    "    distances.append(n_cycles * reach + remainder_reach)\n",
    "    \n",
    "\n",
    "print(f\"FINAL ANSWER: {max(distances)}\")"
   ]
  },
  {
   "cell_type": "markdown",
   "id": "b95756c2",
   "metadata": {},
   "source": [
    "# Part 2"
   ]
  },
  {
   "cell_type": "code",
   "execution_count": 49,
   "id": "c28c3c64",
   "metadata": {},
   "outputs": [
    {
     "name": "stdout",
     "output_type": "stream",
     "text": [
      "FINAL ANSWER: 1256\n"
     ]
    }
   ],
   "source": [
    "limit = 2503\n",
    "distances = [0 for _ in range(len(reindeers))]\n",
    "points = [0 for _ in range(len(reindeers))]\n",
    "for s in range(limit):\n",
    "    for i, r in enumerate(reindeers):\n",
    "        time = s % reindeers[r][-1]\n",
    "        distances[i] += reindeers[r][0] if time < reindeers[r][1] else 0\n",
    "    leaders = np.where(np.array(distances) == max(distances))[0]\n",
    "    for l in leaders:\n",
    "        points[l] += 1\n",
    "    \n",
    "\n",
    "print(f\"FINAL ANSWER: {max(points)}\")"
   ]
  }
 ],
 "metadata": {
  "kernelspec": {
   "display_name": "Python 3 (ipykernel)",
   "language": "python",
   "name": "python3"
  },
  "language_info": {
   "codemirror_mode": {
    "name": "ipython",
    "version": 3
   },
   "file_extension": ".py",
   "mimetype": "text/x-python",
   "name": "python",
   "nbconvert_exporter": "python",
   "pygments_lexer": "ipython3",
   "version": "3.9.7"
  }
 },
 "nbformat": 4,
 "nbformat_minor": 5
}
