{
 "cells": [
  {
   "cell_type": "markdown",
   "id": "5f0c2f3d",
   "metadata": {},
   "source": [
    "# Part 1"
   ]
  },
  {
   "cell_type": "code",
   "execution_count": 13,
   "id": "49753d3c",
   "metadata": {},
   "outputs": [
    {
     "name": "stdout",
     "output_type": "stream",
     "text": [
      "FINAL ANSWER: 9132360\n"
     ]
    }
   ],
   "source": [
    "input_row = 2981\n",
    "input_column = 3075\n",
    "first_code = 20151125\n",
    "multiply = 252533\n",
    "mod = 33554393\n",
    "\n",
    "\n",
    "def zigzag(i, j):\n",
    "    return 1 + j + ((i + j) * (i + j + 1)) // 2\n",
    "\n",
    "\n",
    "tab = [[0 for _ in range(10)] for _ in range(10)]\n",
    "for i in range(10):\n",
    "    for j in range(10):\n",
    "        tab[i][j] = zigzag(i,j)\n",
    "        \n",
    "\n",
    "n = zigzag(input_row-1, input_column-1)\n",
    "current_code = first_code\n",
    "for i in range(n-1):\n",
    "    current_code = (current_code * multiply) % mod\n",
    "    \n",
    "    \n",
    "print(f\"FINAL ANSWER: {current_code}\")"
   ]
  },
  {
   "cell_type": "markdown",
   "id": "3012f3df",
   "metadata": {},
   "source": [
    "# Part 2"
   ]
  },
  {
   "cell_type": "markdown",
   "id": "5e21d329",
   "metadata": {},
   "source": [
    "#### Congrats! Advent of Code 2015 completed!"
   ]
  }
 ],
 "metadata": {
  "kernelspec": {
   "display_name": "Python 3 (ipykernel)",
   "language": "python",
   "name": "python3"
  },
  "language_info": {
   "codemirror_mode": {
    "name": "ipython",
    "version": 3
   },
   "file_extension": ".py",
   "mimetype": "text/x-python",
   "name": "python",
   "nbconvert_exporter": "python",
   "pygments_lexer": "ipython3",
   "version": "3.9.7"
  }
 },
 "nbformat": 4,
 "nbformat_minor": 5
}
