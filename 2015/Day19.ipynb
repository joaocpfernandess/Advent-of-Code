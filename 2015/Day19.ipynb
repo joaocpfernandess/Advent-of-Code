{
 "cells": [
  {
   "cell_type": "code",
   "execution_count": 2,
   "id": "193000fa",
   "metadata": {},
   "outputs": [],
   "source": [
    "import numpy as np\n",
    "import re"
   ]
  },
  {
   "cell_type": "markdown",
   "id": "45bb2fa8",
   "metadata": {},
   "source": [
    "# Part 1"
   ]
  },
  {
   "cell_type": "code",
   "execution_count": 3,
   "id": "dd414f91",
   "metadata": {},
   "outputs": [
    {
     "name": "stdout",
     "output_type": "stream",
     "text": [
      "FINAL ANSWER: 518\n"
     ]
    }
   ],
   "source": [
    "file = open(\"Inputs/input_day19.txt\", \"r\")\n",
    "\n",
    "\n",
    "replacements = {}\n",
    "for line in file:\n",
    "    if line == '\\n':\n",
    "        break\n",
    "    original, replacement = line[:-1].split(' => ')\n",
    "    if original not in replacements:\n",
    "        replacements[original] = [replacement]\n",
    "    else:\n",
    "        replacements[original].append(replacement)\n",
    "    \n",
    "    \n",
    "molecule = file.readline()[:-1]\n",
    "altered_molecules = []\n",
    "for component in replacements:\n",
    "    inds = [(i.start(), i.end()) for i in re.finditer(component, molecule)]\n",
    "    for replace in replacements[component]:\n",
    "        for i in inds:\n",
    "            altered_molecules.append(molecule[:i[0]] + replace + molecule[i[1]:])\n",
    "            \n",
    "            \n",
    "print(f\"FINAL ANSWER: {len(set(altered_molecules))}\")"
   ]
  },
  {
   "cell_type": "markdown",
   "id": "8a34b519",
   "metadata": {},
   "source": [
    "# Part 2"
   ]
  },
  {
   "cell_type": "code",
   "execution_count": 4,
   "id": "c106c1fb",
   "metadata": {
    "scrolled": true
   },
   "outputs": [
    {
     "name": "stdout",
     "output_type": "stream",
     "text": [
      "STEPS: 1, n_molecules: 132\n",
      "STEPS: 2, n_molecules: 17318\n",
      "STEPS: 3, n_molecules: 2258203\n"
     ]
    },
    {
     "ename": "KeyboardInterrupt",
     "evalue": "",
     "output_type": "error",
     "traceback": [
      "\u001b[1;31m---------------------------------------------------------------------------\u001b[0m",
      "\u001b[1;31mKeyboardInterrupt\u001b[0m                         Traceback (most recent call last)",
      "\u001b[1;32m~\\AppData\\Local\\Temp/ipykernel_9556/3151534840.py\u001b[0m in \u001b[0;36m<module>\u001b[1;34m\u001b[0m\n\u001b[0;32m     30\u001b[0m \u001b[0mn_steps\u001b[0m \u001b[1;33m=\u001b[0m \u001b[1;36m0\u001b[0m\u001b[1;33m\u001b[0m\u001b[1;33m\u001b[0m\u001b[0m\n\u001b[0;32m     31\u001b[0m \u001b[1;32mwhile\u001b[0m \u001b[1;34m'e'\u001b[0m \u001b[1;32mnot\u001b[0m \u001b[1;32min\u001b[0m \u001b[0mmoves\u001b[0m\u001b[1;33m:\u001b[0m\u001b[1;33m\u001b[0m\u001b[1;33m\u001b[0m\u001b[0m\n\u001b[1;32m---> 32\u001b[1;33m     \u001b[0mmoves\u001b[0m \u001b[1;33m=\u001b[0m \u001b[0mstep\u001b[0m\u001b[1;33m(\u001b[0m\u001b[0mmoves\u001b[0m\u001b[1;33m,\u001b[0m \u001b[0mreplacements\u001b[0m\u001b[1;33m)\u001b[0m\u001b[1;33m\u001b[0m\u001b[1;33m\u001b[0m\u001b[0m\n\u001b[0m\u001b[0;32m     33\u001b[0m     \u001b[0mn_steps\u001b[0m \u001b[1;33m+=\u001b[0m \u001b[1;36m1\u001b[0m\u001b[1;33m\u001b[0m\u001b[1;33m\u001b[0m\u001b[0m\n\u001b[0;32m     34\u001b[0m     \u001b[0mprint\u001b[0m\u001b[1;33m(\u001b[0m\u001b[1;34mf\"STEPS: {n_steps}, n_molecules: {len(moves)}\"\u001b[0m\u001b[1;33m)\u001b[0m\u001b[1;33m\u001b[0m\u001b[1;33m\u001b[0m\u001b[0m\n",
      "\u001b[1;32m~\\AppData\\Local\\Temp/ipykernel_9556/3151534840.py\u001b[0m in \u001b[0;36mstep\u001b[1;34m(moves, formulas)\u001b[0m\n\u001b[0;32m     24\u001b[0m             \u001b[1;32mfor\u001b[0m \u001b[0mreplace\u001b[0m \u001b[1;32min\u001b[0m \u001b[0mreplacements\u001b[0m\u001b[1;33m[\u001b[0m\u001b[0mcomponent\u001b[0m\u001b[1;33m]\u001b[0m\u001b[1;33m:\u001b[0m\u001b[1;33m\u001b[0m\u001b[1;33m\u001b[0m\u001b[0m\n\u001b[0;32m     25\u001b[0m                 \u001b[1;32mfor\u001b[0m \u001b[0mi\u001b[0m \u001b[1;32min\u001b[0m \u001b[0minds\u001b[0m\u001b[1;33m:\u001b[0m\u001b[1;33m\u001b[0m\u001b[1;33m\u001b[0m\u001b[0m\n\u001b[1;32m---> 26\u001b[1;33m                     \u001b[0mnew\u001b[0m\u001b[1;33m.\u001b[0m\u001b[0mappend\u001b[0m\u001b[1;33m(\u001b[0m\u001b[0mmolecule\u001b[0m\u001b[1;33m[\u001b[0m\u001b[1;33m:\u001b[0m\u001b[0mi\u001b[0m\u001b[1;33m[\u001b[0m\u001b[1;36m0\u001b[0m\u001b[1;33m]\u001b[0m\u001b[1;33m]\u001b[0m \u001b[1;33m+\u001b[0m \u001b[0mreplace\u001b[0m \u001b[1;33m+\u001b[0m \u001b[0mmolecule\u001b[0m\u001b[1;33m[\u001b[0m\u001b[0mi\u001b[0m\u001b[1;33m[\u001b[0m\u001b[1;36m1\u001b[0m\u001b[1;33m]\u001b[0m\u001b[1;33m:\u001b[0m\u001b[1;33m]\u001b[0m\u001b[1;33m)\u001b[0m\u001b[1;33m\u001b[0m\u001b[1;33m\u001b[0m\u001b[0m\n\u001b[0m\u001b[0;32m     27\u001b[0m     \u001b[1;32mreturn\u001b[0m \u001b[0mnew\u001b[0m\u001b[1;33m\u001b[0m\u001b[1;33m\u001b[0m\u001b[0m\n\u001b[0;32m     28\u001b[0m \u001b[1;33m\u001b[0m\u001b[0m\n",
      "\u001b[1;31mKeyboardInterrupt\u001b[0m: "
     ]
    }
   ],
   "source": [
    "file = open(\"Inputs/input_day19.txt\", \"r\")\n",
    "\n",
    "\n",
    "replacements = {}\n",
    "for line in file:\n",
    "    if line == '\\n':\n",
    "        break\n",
    "    replacement, original = line[:-1].split(' => ')\n",
    "    if original not in replacements:\n",
    "        replacements[original] = [replacement]\n",
    "    else:\n",
    "        replacements[original].append(replacement)\n",
    "    \n",
    "    \n",
    "molecule = file.readline()[:-1]\n",
    "moves = [molecule]\n",
    "\n",
    "\n",
    "def step(moves, formulas):\n",
    "    new = []\n",
    "    for molecule in moves:\n",
    "        for component in replacements:\n",
    "            inds = [(i.start(), i.end()) for i in re.finditer(component, molecule)]\n",
    "            for replace in replacements[component]:\n",
    "                for i in inds:\n",
    "                    new.append(molecule[:i[0]] + replace + molecule[i[1]:])\n",
    "    return new\n",
    "\n",
    "\n",
    "n_steps = 0\n",
    "while 'e' not in moves:\n",
    "    moves = step(moves, replacements)\n",
    "    n_steps += 1\n",
    "    print(f\"STEPS: {n_steps}, n_molecules: {len(moves)}\")\n",
    "    \n",
    "    \n",
    "print(f\"FINAL ANSWER: {n_steps}\")"
   ]
  },
  {
   "cell_type": "code",
   "execution_count": 17,
   "id": "efa99118",
   "metadata": {},
   "outputs": [
    {
     "name": "stdout",
     "output_type": "stream",
     "text": [
      "FINAL ANSWER: 200\n"
     ]
    }
   ],
   "source": [
    "n_tokens = len(re.findall(r'[A-Z]', molecule))\n",
    "n_Rn = len([m.start() for m in re.finditer('Rn', molecule)])\n",
    "n_Ar = len([m.start() for m in re.finditer('Ar', molecule)])\n",
    "n_Y = len([m.start() for m in re.finditer('Y', molecule)])\n",
    "\n",
    "\n",
    "print(f\"FINAL ANSWER: {n_tokens - n_Rn - n_Ar - 2*n_Y -1}\")"
   ]
  }
 ],
 "metadata": {
  "kernelspec": {
   "display_name": "Python 3 (ipykernel)",
   "language": "python",
   "name": "python3"
  },
  "language_info": {
   "codemirror_mode": {
    "name": "ipython",
    "version": 3
   },
   "file_extension": ".py",
   "mimetype": "text/x-python",
   "name": "python",
   "nbconvert_exporter": "python",
   "pygments_lexer": "ipython3",
   "version": "3.9.7"
  }
 },
 "nbformat": 4,
 "nbformat_minor": 5
}
