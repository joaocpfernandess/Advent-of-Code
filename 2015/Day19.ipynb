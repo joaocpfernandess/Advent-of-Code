{
 "cells": [
  {
   "cell_type": "code",
   "execution_count": 1,
   "id": "193000fa",
   "metadata": {},
   "outputs": [],
   "source": [
    "import numpy as np\n",
    "import re"
   ]
  },
  {
   "cell_type": "markdown",
   "id": "45bb2fa8",
   "metadata": {},
   "source": [
    "# Part 1"
   ]
  },
  {
   "cell_type": "code",
   "execution_count": 2,
   "id": "dd414f91",
   "metadata": {},
   "outputs": [
    {
     "name": "stdout",
     "output_type": "stream",
     "text": [
      "FINAL ANSWER: 518\n"
     ]
    }
   ],
   "source": [
    "file = open(\"Inputs/input_day19.txt\", \"r\")\n",
    "\n",
    "\n",
    "replacements = {}\n",
    "for line in file:\n",
    "    if line == '\\n':\n",
    "        break\n",
    "    original, replacement = line[:-1].split(' => ')\n",
    "    if original not in replacements:\n",
    "        replacements[original] = [replacement]\n",
    "    else:\n",
    "        replacements[original].append(replacement)\n",
    "    \n",
    "    \n",
    "molecule = file.readline()[:-1]\n",
    "altered_molecules = []\n",
    "for component in replacements:\n",
    "    inds = [(i.start(), i.end()) for i in re.finditer(component, molecule)]\n",
    "    for replace in replacements[component]:\n",
    "        for i in inds:\n",
    "            altered_molecules.append(molecule[:i[0]] + replace + molecule[i[1]:])\n",
    "            \n",
    "            \n",
    "print(f\"FINAL ANSWER: {len(set(altered_molecules))}\")"
   ]
  },
  {
   "cell_type": "markdown",
   "id": "8a34b519",
   "metadata": {},
   "source": [
    "# Part 2"
   ]
  },
  {
   "cell_type": "code",
   "execution_count": null,
   "id": "c106c1fb",
   "metadata": {},
   "outputs": [
    {
     "name": "stdout",
     "output_type": "stream",
     "text": [
      "STEPS: 1, n_molecules: 132\n",
      "STEPS: 2, n_molecules: 17318\n",
      "STEPS: 3, n_molecules: 2258203\n"
     ]
    }
   ],
   "source": [
    "file = open(\"Inputs/input_day19.txt\", \"r\")\n",
    "\n",
    "\n",
    "replacements = {}\n",
    "for line in file:\n",
    "    if line == '\\n':\n",
    "        break\n",
    "    replacement, original = line[:-1].split(' => ')\n",
    "    if original not in replacements:\n",
    "        replacements[original] = [replacement]\n",
    "    else:\n",
    "        replacements[original].append(replacement)\n",
    "    \n",
    "    \n",
    "molecule = file.readline()[:-1]\n",
    "moves = [molecule]\n",
    "\n",
    "\n",
    "def step(moves, formulas):\n",
    "    new = []\n",
    "    for molecule in moves:\n",
    "        for component in replacements:\n",
    "            inds = [(i.start(), i.end()) for i in re.finditer(component, molecule)]\n",
    "            for replace in replacements[component]:\n",
    "                for i in inds:\n",
    "                    new.append(molecule[:i[0]] + replace + molecule[i[1]:])\n",
    "    return new\n",
    "\n",
    "\n",
    "n_steps = 0\n",
    "while 'e' not in moves:\n",
    "    moves = step(moves, replacements)\n",
    "    n_steps += 1\n",
    "    print(f\"STEPS: {n_steps}, n_molecules: {len(moves)}\")\n",
    "    \n",
    "    \n",
    "print(f\"FINAL ANSWER: {n_steps}\")"
   ]
  }
 ],
 "metadata": {
  "kernelspec": {
   "display_name": "Python 3 (ipykernel)",
   "language": "python",
   "name": "python3"
  },
  "language_info": {
   "codemirror_mode": {
    "name": "ipython",
    "version": 3
   },
   "file_extension": ".py",
   "mimetype": "text/x-python",
   "name": "python",
   "nbconvert_exporter": "python",
   "pygments_lexer": "ipython3",
   "version": "3.9.7"
  }
 },
 "nbformat": 4,
 "nbformat_minor": 5
}
