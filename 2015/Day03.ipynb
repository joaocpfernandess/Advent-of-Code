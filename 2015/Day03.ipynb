{
 "cells": [
  {
   "cell_type": "markdown",
   "id": "f4c92b71",
   "metadata": {},
   "source": [
    "### Part 1"
   ]
  },
  {
   "cell_type": "code",
   "execution_count": 3,
   "id": "439fee7f",
   "metadata": {},
   "outputs": [
    {
     "name": "stdout",
     "output_type": "stream",
     "text": [
      "FINAL ANSWER: 2081\n"
     ]
    }
   ],
   "source": [
    "file = open('Inputs/input_day03.txt', 'r')\n",
    "\n",
    "pos = (0,0)\n",
    "seen = [pos]\n",
    "houses = 1\n",
    "for char in file.read():\n",
    "    move = [(1,0), (-1,0), (0,1), (0,-1)][['>', '<', '^', 'v'].index(char)]\n",
    "    pos = (pos[0] + move[0], pos[1] + move[1])\n",
    "    if pos not in seen:\n",
    "        seen.append(pos)\n",
    "        houses += 1\n",
    "    \n",
    "    \n",
    "print(f\"FINAL ANSWER: {houses}\")"
   ]
  },
  {
   "cell_type": "markdown",
   "id": "6fd5b9e3",
   "metadata": {},
   "source": [
    "### Part 2"
   ]
  },
  {
   "cell_type": "code",
   "execution_count": 10,
   "id": "16e091c6",
   "metadata": {},
   "outputs": [
    {
     "name": "stdout",
     "output_type": "stream",
     "text": [
      "FINAL ANSWER: 2341\n"
     ]
    }
   ],
   "source": [
    "file = open('Inputs/input_day03.txt', 'r')\n",
    "\n",
    "\n",
    "file = open('Inputs/input_day03.txt', 'r')\n",
    "\n",
    "santa_pos = (0,0)\n",
    "robo_pos = (0,0)\n",
    "seen = [santa_pos]\n",
    "houses = 1\n",
    "for i, char in enumerate(file.read()):\n",
    "    move = [(1,0), (-1,0), (0,1), (0,-1)][['>', '<', '^', 'v'].index(char)]\n",
    "    if i%2 == 0:\n",
    "        santa_pos = (santa_pos[0] + move[0], santa_pos[1] + move[1])\n",
    "        if santa_pos not in seen:\n",
    "            seen.append(santa_pos)\n",
    "            houses += 1\n",
    "    else:\n",
    "        robo_pos = (robo_pos[0] + move[0], robo_pos[1] + move[1])\n",
    "        if robo_pos not in seen:\n",
    "            seen.append(robo_pos)\n",
    "            houses += 1\n",
    "    \n",
    "    \n",
    "print(f\"FINAL ANSWER: {houses}\")"
   ]
  }
 ],
 "metadata": {
  "kernelspec": {
   "display_name": "Python 3 (ipykernel)",
   "language": "python",
   "name": "python3"
  },
  "language_info": {
   "codemirror_mode": {
    "name": "ipython",
    "version": 3
   },
   "file_extension": ".py",
   "mimetype": "text/x-python",
   "name": "python",
   "nbconvert_exporter": "python",
   "pygments_lexer": "ipython3",
   "version": "3.9.7"
  }
 },
 "nbformat": 4,
 "nbformat_minor": 5
}
