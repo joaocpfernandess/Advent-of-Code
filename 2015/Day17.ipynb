{
 "cells": [
  {
   "cell_type": "code",
   "execution_count": 11,
   "id": "676123d0",
   "metadata": {},
   "outputs": [],
   "source": [
    "import numpy as np"
   ]
  },
  {
   "cell_type": "markdown",
   "id": "3dda4f49",
   "metadata": {},
   "source": [
    "# Part 1"
   ]
  },
  {
   "cell_type": "code",
   "execution_count": 15,
   "id": "d9a1a7ff",
   "metadata": {},
   "outputs": [
    {
     "name": "stdout",
     "output_type": "stream",
     "text": [
      "0\n",
      "10000\n",
      "20000\n",
      "30000\n",
      "40000\n",
      "50000\n",
      "60000\n",
      "70000\n",
      "80000\n",
      "90000\n",
      "100000\n",
      "110000\n",
      "120000\n",
      "130000\n",
      "140000\n",
      "150000\n",
      "160000\n",
      "170000\n",
      "180000\n",
      "190000\n",
      "200000\n",
      "210000\n",
      "220000\n",
      "230000\n",
      "240000\n",
      "250000\n",
      "260000\n",
      "270000\n",
      "280000\n",
      "290000\n",
      "300000\n",
      "310000\n",
      "320000\n",
      "330000\n",
      "340000\n",
      "350000\n",
      "360000\n",
      "370000\n",
      "380000\n",
      "390000\n",
      "400000\n",
      "410000\n",
      "420000\n",
      "430000\n",
      "440000\n",
      "450000\n",
      "460000\n",
      "470000\n",
      "480000\n",
      "490000\n",
      "500000\n",
      "510000\n",
      "520000\n",
      "530000\n",
      "540000\n",
      "550000\n",
      "560000\n",
      "570000\n",
      "580000\n",
      "590000\n",
      "600000\n",
      "610000\n",
      "620000\n",
      "630000\n",
      "640000\n",
      "650000\n",
      "660000\n",
      "670000\n",
      "680000\n",
      "690000\n",
      "700000\n",
      "710000\n",
      "720000\n",
      "730000\n",
      "740000\n",
      "750000\n",
      "760000\n",
      "770000\n",
      "780000\n",
      "790000\n",
      "800000\n",
      "810000\n",
      "820000\n",
      "830000\n",
      "840000\n",
      "850000\n",
      "860000\n",
      "870000\n",
      "880000\n",
      "890000\n",
      "900000\n",
      "910000\n",
      "920000\n",
      "930000\n",
      "940000\n",
      "950000\n",
      "960000\n",
      "970000\n",
      "980000\n",
      "990000\n",
      "1000000\n",
      "1010000\n",
      "1020000\n",
      "1030000\n",
      "1040000\n",
      "FINAL ANSWER: 1304\n"
     ]
    }
   ],
   "source": [
    "file = open(\"Inputs/input_day17.txt\", \"r\")\n",
    "\n",
    "\n",
    "containers = []\n",
    "for line in file:\n",
    "    containers.append(int(line[:-1]))\n",
    "    \n",
    "    \n",
    "def n_to_binary_list(n, length):\n",
    "    binary = []\n",
    "    for i in range(length-1, -1, -1):\n",
    "        if n >= 2**i:\n",
    "            binary.append(1)\n",
    "            n -= 2**i\n",
    "        else:\n",
    "            binary.append(0)\n",
    "    return binary\n",
    "        \n",
    "    \n",
    "n_combinations = 0\n",
    "length = len(containers)\n",
    "for i in range(2**length):\n",
    "    result = np.dot(n_to_binary_list(i, length), containers)\n",
    "    if result == 150:\n",
    "        n_combinations += 1\n",
    "        \n",
    "        \n",
    "print(f\"FINAL ANSWER: {n_combinations}\")"
   ]
  },
  {
   "cell_type": "markdown",
   "id": "0fa3d2e1",
   "metadata": {},
   "source": [
    "# Part 2"
   ]
  },
  {
   "cell_type": "code",
   "execution_count": 21,
   "id": "af9eb1bc",
   "metadata": {},
   "outputs": [
    {
     "name": "stdout",
     "output_type": "stream",
     "text": [
      "FINAL ANSWER: 18\n"
     ]
    }
   ],
   "source": [
    "n_containers = []\n",
    "length = len(containers)\n",
    "for i in range(2**length):\n",
    "    binary = n_to_binary_list(i, length)\n",
    "    result = np.dot(binary, containers)\n",
    "    if result == 150:\n",
    "        n_containers.append(sum(binary))\n",
    "        \n",
    "        \n",
    "print(f\"FINAL ANSWER: {n_containers.count(min(n_containers))}\")"
   ]
  }
 ],
 "metadata": {
  "kernelspec": {
   "display_name": "Python 3 (ipykernel)",
   "language": "python",
   "name": "python3"
  },
  "language_info": {
   "codemirror_mode": {
    "name": "ipython",
    "version": 3
   },
   "file_extension": ".py",
   "mimetype": "text/x-python",
   "name": "python",
   "nbconvert_exporter": "python",
   "pygments_lexer": "ipython3",
   "version": "3.9.7"
  }
 },
 "nbformat": 4,
 "nbformat_minor": 5
}
