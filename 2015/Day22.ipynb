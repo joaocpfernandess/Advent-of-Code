{
 "cells": [
  {
   "cell_type": "markdown",
   "id": "f4b2fe56",
   "metadata": {},
   "source": [
    "# Part 1"
   ]
  },
  {
   "cell_type": "code",
   "execution_count": null,
   "id": "45b66de9",
   "metadata": {},
   "outputs": [],
   "source": [
    "boss_hp = 71\n",
    "boss_dmg = 10\n",
    "\n",
    "class GameSimulation(object):\n",
    "    \n",
    "    def __init__(self, boss_hp, boss_dmg):\n",
    "        self.boss_hp = boss_hp\n",
    "        self.boss_dmg = boss_dmg\n",
    "        self.player_hp = player_hp"
   ]
  },
  {
   "cell_type": "markdown",
   "id": "8efaed2d",
   "metadata": {},
   "source": [
    "# Part 2"
   ]
  },
  {
   "cell_type": "code",
   "execution_count": 1,
   "id": "e5232937",
   "metadata": {},
   "outputs": [
    {
     "data": {
      "text/plain": [
       "9765625"
      ]
     },
     "execution_count": 1,
     "metadata": {},
     "output_type": "execute_result"
    }
   ],
   "source": []
  }
 ],
 "metadata": {
  "kernelspec": {
   "display_name": "Python 3 (ipykernel)",
   "language": "python",
   "name": "python3"
  },
  "language_info": {
   "codemirror_mode": {
    "name": "ipython",
    "version": 3
   },
   "file_extension": ".py",
   "mimetype": "text/x-python",
   "name": "python",
   "nbconvert_exporter": "python",
   "pygments_lexer": "ipython3",
   "version": "3.9.7"
  }
 },
 "nbformat": 4,
 "nbformat_minor": 5
}
