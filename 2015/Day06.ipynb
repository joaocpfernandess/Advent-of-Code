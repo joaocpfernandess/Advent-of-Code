{
 "cells": [
  {
   "cell_type": "markdown",
   "id": "05bf8013",
   "metadata": {},
   "source": [
    "## Part 1"
   ]
  },
  {
   "cell_type": "code",
   "execution_count": 47,
   "id": "c08868bc",
   "metadata": {},
   "outputs": [
    {
     "name": "stdout",
     "output_type": "stream",
     "text": [
      "FINAL ANSWER: 400410\n"
     ]
    }
   ],
   "source": [
    "file = open('Inputs/input_day06.txt')\n",
    "\n",
    "\n",
    "def change_grid(grid, option, s1, s2, e1, e2):\n",
    "    for i in range(s1, e1+1):\n",
    "        for j in range(s2, e2+1):\n",
    "            if option == 'toggle':\n",
    "                grid[i][j] = 0 if grid[i][j] == 1 else 1\n",
    "            elif option == 'on':\n",
    "                grid[i][j] = 1\n",
    "            else:\n",
    "                grid[i][j] = 0\n",
    "    return grid\n",
    "\n",
    "    \n",
    "grid = [[0 for _ in range(1000)] for _ in range(1000)]\n",
    "\n",
    "for line in file:\n",
    "    line = line[:-1].split()\n",
    "    p1, p2 = line[-3], line[-1]\n",
    "    s1, s2 = p1.split(',')\n",
    "    e1, e2 = p2.split(',')\n",
    "    s1, s2, e1, e2 = [int(n) for n in [s1,s2,e1,e2]]\n",
    "    if line[0] == 'toggle':\n",
    "        grid = change_grid(grid, 'toggle', s1, s2, e1, e2)\n",
    "    elif line[1] == 'on':\n",
    "        grid = change_grid(grid, 'on', s1, s2, e1, e2)\n",
    "    else:\n",
    "        grid = change_grid(grid, 'off', s1, s2, e1, e2)\n",
    "        \n",
    "        \n",
    "print(f\"FINAL ANSWER: {sum([sum(l) for l in grid])}\")"
   ]
  },
  {
   "cell_type": "markdown",
   "id": "37f500ee",
   "metadata": {},
   "source": [
    "## Part 2"
   ]
  },
  {
   "cell_type": "code",
   "execution_count": 48,
   "id": "afe627a5",
   "metadata": {},
   "outputs": [
    {
     "name": "stdout",
     "output_type": "stream",
     "text": [
      "FINAL ANSWER: 15343601\n"
     ]
    }
   ],
   "source": [
    "file = open('Inputs/input_day06.txt')\n",
    "\n",
    "\n",
    "def change_grid(grid, option, s1, s2, e1, e2):\n",
    "    for i in range(s1, e1+1):\n",
    "        for j in range(s2, e2+1):\n",
    "            if option == 'toggle':\n",
    "                grid[i][j] += 2\n",
    "            elif option == 'on':\n",
    "                grid[i][j] += 1\n",
    "            else:\n",
    "                grid[i][j] = max(grid[i][j]-1, 0)\n",
    "    return grid\n",
    "\n",
    "    \n",
    "grid = [[0 for _ in range(1000)] for _ in range(1000)]\n",
    "\n",
    "for line in file:\n",
    "    line = line[:-1].split()\n",
    "    p1, p2 = line[-3], line[-1]\n",
    "    s1, s2 = p1.split(',')\n",
    "    e1, e2 = p2.split(',')\n",
    "    s1, s2, e1, e2 = [int(n) for n in [s1,s2,e1,e2]]\n",
    "    if line[0] == 'toggle':\n",
    "        grid = change_grid(grid, 'toggle', s1, s2, e1, e2)\n",
    "    elif line[1] == 'on':\n",
    "        grid = change_grid(grid, 'on', s1, s2, e1, e2)\n",
    "    else:\n",
    "        grid = change_grid(grid, 'off', s1, s2, e1, e2)\n",
    "        \n",
    "        \n",
    "print(f\"FINAL ANSWER: {sum([sum(l) for l in grid])}\")"
   ]
  }
 ],
 "metadata": {
  "kernelspec": {
   "display_name": "Python 3 (ipykernel)",
   "language": "python",
   "name": "python3"
  },
  "language_info": {
   "codemirror_mode": {
    "name": "ipython",
    "version": 3
   },
   "file_extension": ".py",
   "mimetype": "text/x-python",
   "name": "python",
   "nbconvert_exporter": "python",
   "pygments_lexer": "ipython3",
   "version": "3.9.7"
  }
 },
 "nbformat": 4,
 "nbformat_minor": 5
}
