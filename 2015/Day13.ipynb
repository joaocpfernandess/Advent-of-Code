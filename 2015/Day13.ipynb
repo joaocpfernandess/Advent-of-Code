{
 "cells": [
  {
   "cell_type": "code",
   "execution_count": 12,
   "id": "debaf33e",
   "metadata": {},
   "outputs": [],
   "source": [
    "import numpy as np\n",
    "import itertools"
   ]
  },
  {
   "cell_type": "markdown",
   "id": "a656a656",
   "metadata": {},
   "source": [
    "# Part 1"
   ]
  },
  {
   "cell_type": "code",
   "execution_count": 23,
   "id": "1d38512f",
   "metadata": {},
   "outputs": [
    {
     "name": "stdout",
     "output_type": "stream",
     "text": [
      "FINAL ANSWER: 733.0\n"
     ]
    }
   ],
   "source": [
    "file = open('Inputs/input_day13.txt', 'r')\n",
    "\n",
    "\n",
    "happiness_matrix = np.zeros((0,0))\n",
    "indexes = []\n",
    "for line in file:\n",
    "    split = line[:-2].split()\n",
    "    person1, sgn, units, person2 = split[0], split[2], split[3], split[-1]\n",
    "    if person1 not in indexes:\n",
    "        indexes.append(person1)\n",
    "        n = len(indexes)\n",
    "        happiness_matrix.resize((n, n))\n",
    "    i = indexes.index(person1)\n",
    "    if person2 not in indexes:\n",
    "        indexes.append(person2)\n",
    "        n = len(indexes)\n",
    "        happiness_matrix.resize((n, n))\n",
    "    j = indexes.index(person2)\n",
    "    happiness_matrix[i,j] = int(units) if sgn == 'gain' else -int(units)\n",
    "\n",
    "    \n",
    "permutations = list(itertools.permutations([i for i in range(len(indexes))]))\n",
    "changes = []\n",
    "for order in permutations:\n",
    "    aux = happiness_matrix[order[0], order[-1]] + happiness_matrix[order[-1], order[0]]\n",
    "    for i, n in enumerate(order[:-1]):\n",
    "        aux += happiness_matrix[n, order[i+1]] + happiness_matrix[order[i+1], n]\n",
    "    changes.append(aux)\n",
    "\n",
    "\n",
    "print(f\"FINAL ANSWER: {max(changes)}\")"
   ]
  },
  {
   "cell_type": "markdown",
   "id": "6e6f4ac6",
   "metadata": {},
   "source": [
    "# Part 2"
   ]
  },
  {
   "cell_type": "code",
   "execution_count": 32,
   "id": "f14da1cb",
   "metadata": {},
   "outputs": [
    {
     "name": "stdout",
     "output_type": "stream",
     "text": [
      "FINAL ANSWER: 725.0\n"
     ]
    }
   ],
   "source": [
    "permutations = list(itertools.permutations([i for i in range(len(indexes)+1)]))\n",
    "happiness_matrix = np.insert(happiness_matrix, len(happiness_matrix), 0, axis=1)\n",
    "happiness_matrix = np.insert(happiness_matrix, len(happiness_matrix), 0, axis=0)\n",
    "changes = []\n",
    "for order in permutations:\n",
    "    aux = happiness_matrix[order[0], order[-1]] + happiness_matrix[order[-1], order[0]]\n",
    "    for i, n in enumerate(order[:-1]):\n",
    "        aux += happiness_matrix[n, order[i+1]] + happiness_matrix[order[i+1], n]\n",
    "    changes.append(aux)\n",
    "    \n",
    "    \n",
    "print(f\"FINAL ANSWER: {max(changes)}\")"
   ]
  }
 ],
 "metadata": {
  "kernelspec": {
   "display_name": "Python 3 (ipykernel)",
   "language": "python",
   "name": "python3"
  },
  "language_info": {
   "codemirror_mode": {
    "name": "ipython",
    "version": 3
   },
   "file_extension": ".py",
   "mimetype": "text/x-python",
   "name": "python",
   "nbconvert_exporter": "python",
   "pygments_lexer": "ipython3",
   "version": "3.9.7"
  }
 },
 "nbformat": 4,
 "nbformat_minor": 5
}
