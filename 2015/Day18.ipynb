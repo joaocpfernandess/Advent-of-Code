{
 "cells": [
  {
   "cell_type": "markdown",
   "id": "98578c1c",
   "metadata": {},
   "source": [
    "# Part 1"
   ]
  },
  {
   "cell_type": "code",
   "execution_count": 29,
   "id": "454a3cc8",
   "metadata": {},
   "outputs": [
    {
     "name": "stdout",
     "output_type": "stream",
     "text": [
      "FINAL ANSWER: 821\n"
     ]
    }
   ],
   "source": [
    "file = open(\"Inputs/input_day18.txt\", \"r\")\n",
    "\n",
    "\n",
    "class Grid(object):\n",
    "    \n",
    "    def __init__(self, grid):\n",
    "        self.grid = grid\n",
    "        self.n_lights_on = sum([r.count('#') for r in self.grid])\n",
    "        self.n = len(self.grid)\n",
    "        self.m = len(self.grid[0])\n",
    "        \n",
    "    \n",
    "    def step(self):\n",
    "        new_grid = []\n",
    "        for i in range(self.n):\n",
    "            aux = []\n",
    "            for j in range(self.m):\n",
    "                neigh = [(i-1, j-1), (i-1, j), (i-1, j+1), (i, j-1), (i, j+1), (i+1, j-1), (i+1, j), (i+1, j+1)]\n",
    "                neigh = [pair for pair in neigh if 0 <= pair[0] < self.n and 0 <= pair[1] < self.m]\n",
    "                n_neighbours_on = 0\n",
    "                for n in neigh:\n",
    "                    if self.grid[n[0]][n[1]] == \"#\":\n",
    "                        n_neighbours_on += 1\n",
    "                if self.grid[i][j] == \"#\":\n",
    "                    aux += [\"#\"] if n_neighbours_on in [2,3] else ['.']\n",
    "                else:\n",
    "                    aux += [\"#\"] if n_neighbours_on == 3 else ['.']\n",
    "            new_grid += [aux]\n",
    "        self.grid = new_grid\n",
    "        self.n_lights_on = sum([r.count('#') for r in self.grid])\n",
    "\n",
    "        \n",
    "grid = []\n",
    "for line in file:\n",
    "    grid += [list(line[:-1])]\n",
    "    \n",
    "    \n",
    "g = Grid(grid)\n",
    "for _ in range(100):\n",
    "    g.step()\n",
    "    \n",
    "    \n",
    "print(f\"FINAL ANSWER: {g.n_lights_on}\")"
   ]
  },
  {
   "cell_type": "markdown",
   "id": "ec4105a8",
   "metadata": {},
   "source": [
    "# Part 2"
   ]
  },
  {
   "cell_type": "code",
   "execution_count": 30,
   "id": "11ec905a",
   "metadata": {},
   "outputs": [
    {
     "name": "stdout",
     "output_type": "stream",
     "text": [
      "FINAL ANSWER: 886\n"
     ]
    }
   ],
   "source": [
    "file = open(\"Inputs/input_day18.txt\", \"r\")\n",
    "\n",
    "\n",
    "class Grid(object):\n",
    "    \n",
    "    def __init__(self, grid):\n",
    "        self.grid = grid\n",
    "        self.n_lights_on = sum([r.count('#') for r in self.grid])\n",
    "        self.n = len(self.grid)\n",
    "        self.m = len(self.grid[0])\n",
    "        \n",
    "    \n",
    "    def step(self):\n",
    "        new_grid = []\n",
    "        for i in range(self.n):\n",
    "            aux = []\n",
    "            for j in range(self.m):\n",
    "                neigh = [(i-1, j-1), (i-1, j), (i-1, j+1), (i, j-1), (i, j+1), (i+1, j-1), (i+1, j), (i+1, j+1)]\n",
    "                neigh = [pair for pair in neigh if 0 <= pair[0] < self.n and 0 <= pair[1] < self.m]\n",
    "                n_neighbours_on = 0\n",
    "                for n in neigh:\n",
    "                    if self.grid[n[0]][n[1]] == \"#\":\n",
    "                        n_neighbours_on += 1\n",
    "                if self.grid[i][j] == \"#\":\n",
    "                    aux += [\"#\"] if n_neighbours_on in [2,3] else ['.']\n",
    "                else:\n",
    "                    aux += [\"#\"] if n_neighbours_on == 3 else ['.']\n",
    "            new_grid += [aux]\n",
    "        self.grid = new_grid\n",
    "        self.grid[0][0], self.grid[0][self.m-1], self.grid[self.n-1][0], self.grid[self.n-1][self.m-1] = \"#\", \"#\", \"#\", \"#\"\n",
    "        self.n_lights_on = sum([r.count('#') for r in self.grid])\n",
    "\n",
    "        \n",
    "grid = []\n",
    "for line in file:\n",
    "    grid += [list(line[:-1])]\n",
    "grid[0][0], grid[0][len(grid[0])-1], grid[len(grid)-1][0], grid[len(grid)-1][len(grid[0])-1] = \"#\", \"#\", \"#\", \"#\"\n",
    "    \n",
    "    \n",
    "g = Grid(grid)\n",
    "for _ in range(100):\n",
    "    g.step()\n",
    "    \n",
    "    \n",
    "print(f\"FINAL ANSWER: {g.n_lights_on}\")"
   ]
  }
 ],
 "metadata": {
  "kernelspec": {
   "display_name": "Python 3 (ipykernel)",
   "language": "python",
   "name": "python3"
  },
  "language_info": {
   "codemirror_mode": {
    "name": "ipython",
    "version": 3
   },
   "file_extension": ".py",
   "mimetype": "text/x-python",
   "name": "python",
   "nbconvert_exporter": "python",
   "pygments_lexer": "ipython3",
   "version": "3.9.7"
  }
 },
 "nbformat": 4,
 "nbformat_minor": 5
}
