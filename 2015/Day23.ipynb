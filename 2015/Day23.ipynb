{
 "cells": [
  {
   "cell_type": "code",
   "execution_count": 2,
   "id": "4ae60d8b",
   "metadata": {},
   "outputs": [],
   "source": [
    "import re"
   ]
  },
  {
   "cell_type": "markdown",
   "id": "63e5d269",
   "metadata": {},
   "source": [
    "# Part 1"
   ]
  },
  {
   "cell_type": "code",
   "execution_count": 3,
   "id": "08ef247d",
   "metadata": {},
   "outputs": [
    {
     "name": "stdout",
     "output_type": "stream",
     "text": [
      "FINAL ANSWER: 307\n"
     ]
    }
   ],
   "source": [
    "file = open(\"Inputs/input_day23.txt\", \"r\")\n",
    "\n",
    "\n",
    "instructions = []\n",
    "for line in file:\n",
    "    instruction = re.sub(',', '', line[:-1]).split()\n",
    "    if instruction[0] in ['jio', 'jie']:\n",
    "        sgn, number = instruction[2][0], int(instruction[2][1:])\n",
    "        instructions += [(instruction[0], instruction[1], number)] if sgn=='+' else [(instruction[0], instruction[1], -number)]\n",
    "    elif instruction[0] == 'jmp':\n",
    "        sgn, number = instruction[1][0], int(instruction[1][1:])\n",
    "        instructions += [(instruction[0], number)] if sgn=='+' else [(instruction[0], -number)]\n",
    "    else:\n",
    "        instructions += [(instruction[0], instruction[1])]\n",
    "        \n",
    "        \n",
    "registers = {'a': 0, 'b': 0}\n",
    "i = 0\n",
    "while 0 <= i < len(instructions):\n",
    "    current = instructions[i]\n",
    "    op = current[0]\n",
    "    if op != 'jmp':\n",
    "        reg = current[1]\n",
    "        \n",
    "    if op == 'hlf':\n",
    "        registers[reg] /= 2\n",
    "        i += 1\n",
    "    elif op == 'tpl':\n",
    "        registers[reg] *= 3\n",
    "        i += 1\n",
    "    elif op == 'inc':\n",
    "        registers[reg] += 1\n",
    "        i += 1\n",
    "    elif op == 'jmp':\n",
    "        i += current[1]\n",
    "    elif op == 'jio':\n",
    "        i += current[2] if registers[reg] == 1 else 1\n",
    "    else: # jie\n",
    "        i += current[2] if registers[reg] % 2 == 0 else 1\n",
    "        \n",
    "        \n",
    "        \n",
    "print(f\"FINAL ANSWER: {registers['b']}\")"
   ]
  },
  {
   "cell_type": "markdown",
   "id": "9123302d",
   "metadata": {},
   "source": [
    "# Part 2"
   ]
  },
  {
   "cell_type": "code",
   "execution_count": 4,
   "id": "ab2bd977",
   "metadata": {},
   "outputs": [
    {
     "name": "stdout",
     "output_type": "stream",
     "text": [
      "FINAL ANSWER: 160\n"
     ]
    }
   ],
   "source": [
    "registers = {'a': 1, 'b': 0}\n",
    "i = 0\n",
    "while 0 <= i < len(instructions):\n",
    "    current = instructions[i]\n",
    "    op = current[0]\n",
    "    if op != 'jmp':\n",
    "        reg = current[1]\n",
    "        \n",
    "    if op == 'hlf':\n",
    "        registers[reg] /= 2\n",
    "        i += 1\n",
    "    elif op == 'tpl':\n",
    "        registers[reg] *= 3\n",
    "        i += 1\n",
    "    elif op == 'inc':\n",
    "        registers[reg] += 1\n",
    "        i += 1\n",
    "    elif op == 'jmp':\n",
    "        i += current[1]\n",
    "    elif op == 'jio':\n",
    "        i += current[2] if registers[reg] == 1 else 1\n",
    "    else: # jie\n",
    "        i += current[2] if registers[reg] % 2 == 0 else 1\n",
    "        \n",
    "        \n",
    "        \n",
    "print(f\"FINAL ANSWER: {registers['b']}\")"
   ]
  }
 ],
 "metadata": {
  "kernelspec": {
   "display_name": "Python 3 (ipykernel)",
   "language": "python",
   "name": "python3"
  },
  "language_info": {
   "codemirror_mode": {
    "name": "ipython",
    "version": 3
   },
   "file_extension": ".py",
   "mimetype": "text/x-python",
   "name": "python",
   "nbconvert_exporter": "python",
   "pygments_lexer": "ipython3",
   "version": "3.9.7"
  }
 },
 "nbformat": 4,
 "nbformat_minor": 5
}
