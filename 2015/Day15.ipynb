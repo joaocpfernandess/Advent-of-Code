{
 "cells": [
  {
   "cell_type": "code",
   "execution_count": 30,
   "id": "abcb9a04",
   "metadata": {},
   "outputs": [],
   "source": [
    "import re\n",
    "import numpy as np"
   ]
  },
  {
   "cell_type": "markdown",
   "id": "f44c660c",
   "metadata": {},
   "source": [
    "# Part 1"
   ]
  },
  {
   "cell_type": "code",
   "execution_count": 34,
   "id": "f3cf0ceb",
   "metadata": {},
   "outputs": [
    {
     "name": "stdout",
     "output_type": "stream",
     "text": [
      "FINAL ANSWER: 21367368\n"
     ]
    }
   ],
   "source": [
    "file = open(\"Inputs/input_day15.txt\", \"r\")\n",
    "\n",
    "\n",
    "ingredients = {}\n",
    "for line in file:\n",
    "    split = re.sub('[^-a-zA-Z0-9 ]', '', line[:-1]).split()\n",
    "    ingredients[split[0]] = [int(split[2]), int(split[4]), int(split[6]), int(split[8]), int(split[10])]\n",
    "    \n",
    "\n",
    "cookie_score = []\n",
    "keys = list(ingredients.keys())\n",
    "\n",
    "for a in range(101):\n",
    "    for b in range(101-a):\n",
    "        for c in range(101-(a+b)):\n",
    "            capacity = max(np.dot([ingredients[k][0] for k in keys], [a, b, c, 100-a-b-c]), 0)\n",
    "            durability = max(np.dot([ingredients[k][1] for k in keys], [a, b, c, 100-a-b-c]), 0)\n",
    "            flavor = max(np.dot([ingredients[k][2] for k in keys], [a, b, c, 100-a-b-c]), 0) \n",
    "            texture = max(np.dot([ingredients[k][3] for k in keys], [a, b, c, 100-a-b-c]), 0)\n",
    "            cookie_score.append(capacity * durability * flavor * texture)\n",
    "            \n",
    "            \n",
    "print(f\"FINAL ANSWER: {max(cookie_score)}\")"
   ]
  },
  {
   "cell_type": "markdown",
   "id": "2368e663",
   "metadata": {},
   "source": [
    "# Part 2"
   ]
  },
  {
   "cell_type": "code",
   "execution_count": 35,
   "id": "17b4a50d",
   "metadata": {},
   "outputs": [
    {
     "name": "stdout",
     "output_type": "stream",
     "text": [
      "FINAL ANSWER: 1766400\n"
     ]
    }
   ],
   "source": [
    "cookie_score = []\n",
    "\n",
    "\n",
    "for a in range(101):\n",
    "    for b in range(101-a):\n",
    "        for c in range(101-(a+b)):\n",
    "            capacity = max(np.dot([ingredients[k][0] for k in keys], [a, b, c, 100-a-b-c]), 0)\n",
    "            durability = max(np.dot([ingredients[k][1] for k in keys], [a, b, c, 100-a-b-c]), 0)\n",
    "            flavor = max(np.dot([ingredients[k][2] for k in keys], [a, b, c, 100-a-b-c]), 0) \n",
    "            texture = max(np.dot([ingredients[k][3] for k in keys], [a, b, c, 100-a-b-c]), 0)\n",
    "            calories = np.dot([ingredients[k][4] for k in keys], [a, b, c, 100-a-b-c])\n",
    "            if calories == 500:\n",
    "                cookie_score.append(capacity * durability * flavor * texture)\n",
    "            \n",
    "            \n",
    "print(f\"FINAL ANSWER: {max(cookie_score)}\")"
   ]
  }
 ],
 "metadata": {
  "kernelspec": {
   "display_name": "Python 3 (ipykernel)",
   "language": "python",
   "name": "python3"
  },
  "language_info": {
   "codemirror_mode": {
    "name": "ipython",
    "version": 3
   },
   "file_extension": ".py",
   "mimetype": "text/x-python",
   "name": "python",
   "nbconvert_exporter": "python",
   "pygments_lexer": "ipython3",
   "version": "3.9.7"
  }
 },
 "nbformat": 4,
 "nbformat_minor": 5
}
