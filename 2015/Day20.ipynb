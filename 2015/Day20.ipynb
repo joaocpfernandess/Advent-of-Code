{
 "cells": [
  {
   "cell_type": "code",
   "execution_count": 87,
   "id": "ecf22437",
   "metadata": {},
   "outputs": [],
   "source": [
    "import numpy as np\n",
    "import itertools\n",
    "import sympy"
   ]
  },
  {
   "cell_type": "markdown",
   "id": "1731e1ff",
   "metadata": {},
   "source": [
    "# Part 1"
   ]
  },
  {
   "cell_type": "code",
   "execution_count": 102,
   "id": "360255b5",
   "metadata": {},
   "outputs": [
    {
     "name": "stdout",
     "output_type": "stream",
     "text": [
      "FINAL ANSWER: 665280\n"
     ]
    }
   ],
   "source": [
    "number = 29000000\n",
    "\n",
    "\n",
    "def prime_factors(n):\n",
    "    prime_facts = []\n",
    "    factors = []\n",
    "    primes_list = list(sympy.primerange(np.sqrt(n)))\n",
    "    for p in primes_list:\n",
    "        factor = 0\n",
    "        while n % p == 0:\n",
    "            n /= p\n",
    "            factor += 1\n",
    "        if factor > 0:\n",
    "            prime_facts.append(p)\n",
    "            factors.append(factor)\n",
    "    return prime_facts, factors\n",
    "        \n",
    "\n",
    "def divisors(n):\n",
    "    prime_facts, factors = prime_factors(n)\n",
    "    divisors = []\n",
    "    combs = list(itertools.product(*[[i for i in range(f+1)] for f in factors]))\n",
    "    for c in combs:\n",
    "        divisors.append(np.prod([prime_facts[i]**power for i, power in enumerate(c)]))\n",
    "    return sorted(divisors)\n",
    "\n",
    "\n",
    "target = number / 10\n",
    "house = 1\n",
    "while sum(divisors(house)) < target:\n",
    "    house += 1\n",
    "        \n",
    "        \n",
    "print(f\"FINAL ANSWER: {house}\")"
   ]
  },
  {
   "cell_type": "markdown",
   "id": "8a18d887",
   "metadata": {},
   "source": [
    "# Part 2"
   ]
  },
  {
   "cell_type": "code",
   "execution_count": 103,
   "id": "8b236710",
   "metadata": {},
   "outputs": [
    {
     "name": "stdout",
     "output_type": "stream",
     "text": [
      "FINAL ANSWER: 705600\n"
     ]
    }
   ],
   "source": [
    "target = number / 11\n",
    "house = 1\n",
    "while sum([d for d in divisors(house) if house <= 50*d]) < target:\n",
    "    house += 1\n",
    "        \n",
    "        \n",
    "print(f\"FINAL ANSWER: {house}\")"
   ]
  }
 ],
 "metadata": {
  "kernelspec": {
   "display_name": "Python 3 (ipykernel)",
   "language": "python",
   "name": "python3"
  },
  "language_info": {
   "codemirror_mode": {
    "name": "ipython",
    "version": 3
   },
   "file_extension": ".py",
   "mimetype": "text/x-python",
   "name": "python",
   "nbconvert_exporter": "python",
   "pygments_lexer": "ipython3",
   "version": "3.9.7"
  }
 },
 "nbformat": 4,
 "nbformat_minor": 5
}
