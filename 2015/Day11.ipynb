{
 "cells": [
  {
   "cell_type": "markdown",
   "id": "17b4443d",
   "metadata": {},
   "source": [
    "# Part 1"
   ]
  },
  {
   "cell_type": "code",
   "execution_count": 70,
   "id": "cbee2fa4",
   "metadata": {},
   "outputs": [
    {
     "name": "stdout",
     "output_type": "stream",
     "text": [
      "FINAL ANSWER: hxbxxyzz\n"
     ]
    }
   ],
   "source": [
    "password = 'hxbxwxba'\n",
    "\n",
    "\n",
    "def next_password(password):\n",
    "    new = ''\n",
    "    i = -1\n",
    "    while i >= -len(password) and password[i] == 'z':\n",
    "        new = 'a' + new\n",
    "        i -= 1\n",
    "    new = chr(ord(password[i]) + 1) + new\n",
    "    new = password[:i] + new\n",
    "    return new\n",
    "\n",
    "\n",
    "def test_requirements(password):\n",
    "    if not set(password).intersection({'i', 'o', 'j'}):\n",
    "        diffs = [ord(password[i+1])-ord(password[i]) for i in range(len(password)-1)]\n",
    "        triplets = [diffs[i:i+2] for i in range(len(diffs)-1)]\n",
    "        has_three_consecutives = any(map(lambda triplet: triplet == [1,1], triplets))\n",
    "        equal_sequences = [i for i, v in enumerate(diffs) if v == 0]\n",
    "        if len(equal_sequences) >= 2:\n",
    "            diffs2 = [equal_sequences[i+1] - equal_sequences[i] for i in range(len(equal_sequences)-1)]\n",
    "            has_two_pairs = (diffs2 != [1])\n",
    "        else:\n",
    "            return False\n",
    "        return has_three_consecutives and has_two_pairs    \n",
    "    else:\n",
    "        return False\n",
    "    \n",
    "\n",
    "while not test_requirements(password):\n",
    "    password = next_password(password)\n",
    "print(f\"FINAL ANSWER: {password}\")"
   ]
  },
  {
   "cell_type": "markdown",
   "id": "eb11c5d5",
   "metadata": {},
   "source": [
    "# Part 2"
   ]
  },
  {
   "cell_type": "code",
   "execution_count": 71,
   "id": "ba3de6dc",
   "metadata": {},
   "outputs": [
    {
     "name": "stdout",
     "output_type": "stream",
     "text": [
      "FINAL ANSWER: hxcaabcc\n"
     ]
    }
   ],
   "source": [
    "new_password = next_password(password)\n",
    "while not test_requirements(new_password):\n",
    "    new_password = next_password(new_password)\n",
    "print(f\"FINAL ANSWER: {new_password}\")"
   ]
  }
 ],
 "metadata": {
  "kernelspec": {
   "display_name": "Python 3 (ipykernel)",
   "language": "python",
   "name": "python3"
  },
  "language_info": {
   "codemirror_mode": {
    "name": "ipython",
    "version": 3
   },
   "file_extension": ".py",
   "mimetype": "text/x-python",
   "name": "python",
   "nbconvert_exporter": "python",
   "pygments_lexer": "ipython3",
   "version": "3.9.7"
  }
 },
 "nbformat": 4,
 "nbformat_minor": 5
}
