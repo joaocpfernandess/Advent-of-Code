{
 "cells": [
  {
   "cell_type": "code",
   "execution_count": 186,
   "id": "1c0bd88b",
   "metadata": {},
   "outputs": [],
   "source": [
    "import math"
   ]
  },
  {
   "cell_type": "markdown",
   "id": "07016ffd",
   "metadata": {},
   "source": [
    "# Part 1"
   ]
  },
  {
   "cell_type": "code",
   "execution_count": 189,
   "id": "27c3549f",
   "metadata": {},
   "outputs": [
    {
     "name": "stdout",
     "output_type": "stream",
     "text": [
      "FINAL ANSWER: 10439961859\n"
     ]
    }
   ],
   "source": [
    "file = open(\"Inputs/input_day24.txt\", \"r\")\n",
    "\n",
    "\n",
    "weights = []\n",
    "for line in file:\n",
    "    weights.append(int(line[:-1]))\n",
    "target = sum(weights) // 3\n",
    "\n",
    "\n",
    "def is_subset_sum(w, n, s):\n",
    "    if s == 0:\n",
    "        return True\n",
    "    elif n == 0:\n",
    "        return False\n",
    "    else:\n",
    "        return is_subset_sum(w[:n-1], n-1, s) or is_subset_sum(w[:n-1], n-1, s-w[n-1])\n",
    "\n",
    "\n",
    "def subset_sum_table(w, s):\n",
    "    table = [[True] + [False for _ in range(s)] for _ in range(len(w)+1)]\n",
    "    for i in range(1, len(table)):\n",
    "        for j in range(1, len(table[0])):\n",
    "            if j < w[i-1]:\n",
    "                table[i][j] = table[i-1][j]\n",
    "            else:\n",
    "                table[i][j] = table[i-1][j] or table[i-1][j-w[i-1]]\n",
    "    return table\n",
    "\n",
    "\n",
    "def recursive_subset_sum(w, i, s, p, tab):\n",
    "    if s == 0:\n",
    "        groups.append(p)\n",
    "        return\n",
    "    elif i == 0:\n",
    "        return\n",
    "    if tab[i-1][s]:\n",
    "        recursive_subset_sum(w, i-1, s, p, tab)\n",
    "    if s >= w[i-1] and tab[i-1][s-w[i-1]]:\n",
    "        recursive_subset_sum(w, i-1, s-w[i-1], p + [w[i-1]], tab)\n",
    "        \n",
    "        \n",
    "groups = []\n",
    "table = subset_sum_table(weights, target)\n",
    "recursive_subset_sum(weights, len(weights), target, [], table)        \n",
    "minimal_len = min([len(x) for x in groups])\n",
    "optimal = [w for w in to_keep if len(w) == minimal_len]\n",
    "entanglement = [math.prod(o) for o in optimal]\n",
    "\n",
    "\n",
    "print(f\"FINAL ANSWER: {min(entanglement)}\")"
   ]
  },
  {
   "cell_type": "markdown",
   "id": "1934f49e",
   "metadata": {},
   "source": [
    "# Part 2"
   ]
  },
  {
   "cell_type": "code",
   "execution_count": 191,
   "id": "09140471",
   "metadata": {},
   "outputs": [
    {
     "name": "stdout",
     "output_type": "stream",
     "text": [
      "FINAL ANSWER: 72050269\n"
     ]
    }
   ],
   "source": [
    "target = sum(weights) // 4\n",
    "\n",
    "\n",
    "groups = []\n",
    "table = subset_sum_table(weights, target)\n",
    "recursive_subset_sum(weights, len(weights), target, [], table)        \n",
    "minimal_len = min([len(x) for x in groups])\n",
    "optimal = [w for w in groups if len(w) == minimal_len]\n",
    "entanglement = [math.prod(o) for o in optimal]\n",
    "\n",
    "\n",
    "print(f\"FINAL ANSWER: {min(entanglement)}\")"
   ]
  }
 ],
 "metadata": {
  "kernelspec": {
   "display_name": "Python 3 (ipykernel)",
   "language": "python",
   "name": "python3"
  },
  "language_info": {
   "codemirror_mode": {
    "name": "ipython",
    "version": 3
   },
   "file_extension": ".py",
   "mimetype": "text/x-python",
   "name": "python",
   "nbconvert_exporter": "python",
   "pygments_lexer": "ipython3",
   "version": "3.9.7"
  }
 },
 "nbformat": 4,
 "nbformat_minor": 5
}
