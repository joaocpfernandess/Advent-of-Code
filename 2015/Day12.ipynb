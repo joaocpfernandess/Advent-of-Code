{
 "cells": [
  {
   "cell_type": "code",
   "execution_count": 112,
   "id": "2f15b82b",
   "metadata": {},
   "outputs": [],
   "source": [
    "import re"
   ]
  },
  {
   "cell_type": "markdown",
   "id": "4260287e",
   "metadata": {},
   "source": [
    "# Part 1"
   ]
  },
  {
   "cell_type": "code",
   "execution_count": 146,
   "id": "b6192e27",
   "metadata": {},
   "outputs": [
    {
     "name": "stdout",
     "output_type": "stream",
     "text": [
      "FINAL ANSWER: 191164\n"
     ]
    }
   ],
   "source": [
    "file = open('Inputs/input_day12.txt', 'r')\n",
    "\n",
    "\n",
    "transcript = re.sub(\"[^a-z0-9A-Z'-]\", ' ', file.read())\n",
    "transcript = re.sub(\" +\", \" \", transcript)\n",
    "numbers = [int(n) for n in transcript.split() if n.lstrip(\"-\").isdigit()]\n",
    "\n",
    "\n",
    "print(f\"FINAL ANSWER: {sum(numbers)}\")"
   ]
  },
  {
   "cell_type": "markdown",
   "id": "41b54bba",
   "metadata": {},
   "source": [
    "# Part 2"
   ]
  },
  {
   "cell_type": "code",
   "execution_count": 155,
   "id": "5653566f",
   "metadata": {
    "scrolled": false
   },
   "outputs": [
    {
     "name": "stdout",
     "output_type": "stream",
     "text": [
      "FINAL ANSWER: 165071\n"
     ]
    }
   ],
   "source": [
    "file = open('Inputs/input_day12.txt', 'r')\n",
    "text = file.read()\n",
    "\n",
    "\n",
    "def calculate_numbers(phrase):\n",
    "    transcript = re.sub(\"[^a-z0-9A-Z'-]\", ' ', phrase)\n",
    "    transcript = re.sub(\" +\", \" \", transcript)\n",
    "    numbers = [int(n) for n in transcript.split() if n.lstrip(\"-\").isdigit()]\n",
    "    return sum(numbers)\n",
    "\n",
    "\n",
    "def get_inds_lvls(text):\n",
    "    lvl = 0\n",
    "    lvls = [0]\n",
    "    inds = []\n",
    "    to_remove = 0\n",
    "    for i, char in enumerate(text):\n",
    "        if char == \"{\":\n",
    "            lvl += 1\n",
    "            inds.append(i)\n",
    "            lvls.append(lvl)\n",
    "        elif char == \"}\":\n",
    "            lvl -= 1\n",
    "            inds.append(i)\n",
    "            lvls.append(lvl)\n",
    "    return inds, lvls\n",
    "\n",
    "    \n",
    "class Node(object):\n",
    "    \n",
    "    def __init__(self, phrase, depth, inds):\n",
    "        self.phrase = phrase\n",
    "        self.depth = depth\n",
    "        self.inds = inds\n",
    "        self.children = []\n",
    "        self.seen = False\n",
    "        \n",
    "    \n",
    "    def list_children(self):\n",
    "        for child in self.children:\n",
    "            print(child.phrase)\n",
    "            \n",
    "    \n",
    "    def calculate_number(self):\n",
    "        return calculate_numbers(self.phrase)\n",
    "    \n",
    "    \n",
    "    def add_parent(self, node):\n",
    "        node.children = [self] + node.children\n",
    "        \n",
    "    \n",
    "    def get_clean_text(self):\n",
    "        relevant = [self.inds[0]]\n",
    "        for c in self.children:\n",
    "            relevant += c.inds \n",
    "        relevant += [self.inds[1]]\n",
    "        relevant_text = \"\"\n",
    "        for i in range(0, len(relevant), 2):\n",
    "            relevant_text += text_example[relevant[i]:relevant[i+1]+1]\n",
    "        return relevant_text\n",
    "        \n",
    "        \n",
    "class PhraseTree(object):\n",
    "    \n",
    "    def __init__(self, text, inds, lvls):\n",
    "        self.text = text\n",
    "        self.inds = inds\n",
    "        self.lvls = lvls\n",
    "        self.root_nodes = []\n",
    "        \n",
    "    \n",
    "    def create_tree(self):\n",
    "        aux = []\n",
    "        newest_nodes = []\n",
    "        for i, lvl in enumerate(self.lvls):\n",
    "            if lvl > 0 and self.lvls[i-1] < lvl:\n",
    "                aux.append(self.inds[i-1])\n",
    "            elif self.lvls[i-1] > lvl:\n",
    "                phrase = self.text[aux[-1]:self.inds[i-1]+1]\n",
    "                node = Node(phrase, self.lvls[i-1], [aux[-1], self.inds[i-1]])\n",
    "                while newest_nodes != [] and newest_nodes[-1].depth > self.lvls[i-1]:\n",
    "                    newest_nodes[-1].add_parent(node)\n",
    "                    newest_nodes.pop()\n",
    "                newest_nodes.append(node)\n",
    "                aux.pop()\n",
    "                if node.depth == 1:\n",
    "                    self.root_nodes.append(node)\n",
    "\n",
    "                    \n",
    "                    \n",
    "text_example = \"pppp{qqqqqqq{rrrr}qq{sss}qqqq}ppp\"\n",
    "inds, lvls = get_inds_lvls(text)\n",
    "pt = PhraseTree(text, inds, lvls)\n",
    "pt.create_tree()\n",
    "\n",
    "\n",
    "to_remove = 0\n",
    "for i in range(len(pt.root_nodes)):\n",
    "    root = pt.root_nodes[i]\n",
    "    levels = [root]\n",
    "    while levels != []:\n",
    "        current = levels[-1]\n",
    "        if current.children == []:\n",
    "            occurences = [(m.start(), m.end()) for m in re.finditer('\"red\"', current.phrase)]\n",
    "            if occurences != [] and not current.seen and any(list(map(lambda p: current.phrase[p[0]-1] == ':' or current.phrase[p[1]] == ':', occurences))):\n",
    "                to_remove += calculate_numbers(current.phrase)\n",
    "            current.seen = True\n",
    "            levels.pop()\n",
    "        else:\n",
    "            clean_text = current.get_clean_text()\n",
    "            occurences = [(m.start(), m.end()) for m in re.finditer('\"red\"', clean_text)]\n",
    "            if occurences != [] and not current.seen: # and any(list(map(lambda p: clean_text[p[0]-1] == ':' or clean_text[p[1]] == ':', occurences))): \n",
    "                to_remove += calculate_numbers(current.phrase)\n",
    "                levels.pop()\n",
    "            else:\n",
    "                new = current.children[-1]\n",
    "                current.children.pop()\n",
    "                levels.append(new)\n",
    "            current.seen = True\n",
    "\n",
    "            \n",
    "\n",
    "print(f\"FINAL ANSWER: {sum(numbers) - to_remove}\")"
   ]
  },
  {
   "cell_type": "code",
   "execution_count": 156,
   "id": "2cadca4d",
   "metadata": {},
   "outputs": [
    {
     "data": {
      "text/plain": [
       "87842"
      ]
     },
     "execution_count": 156,
     "metadata": {},
     "output_type": "execute_result"
    }
   ],
   "source": [
    "import json\n",
    "\n",
    "def day12():\n",
    "    def sum_numbers(obj):\n",
    "        if type(obj) == type(dict()):\n",
    "            if \"red\" in obj.values():\n",
    "                return 0\n",
    "            return sum(map(sum_numbers, obj.values()))\n",
    "\n",
    "        if type(obj) == type(list()):\n",
    "            return sum(map(sum_numbers, obj))\n",
    "\n",
    "        if type(obj) == type(0):\n",
    "            return obj\n",
    "\n",
    "        return 0\n",
    "\n",
    "    data = json.loads(text)\n",
    "    return sum_numbers(data)\n",
    "\n",
    "day12()"
   ]
  }
 ],
 "metadata": {
  "kernelspec": {
   "display_name": "Python 3 (ipykernel)",
   "language": "python",
   "name": "python3"
  },
  "language_info": {
   "codemirror_mode": {
    "name": "ipython",
    "version": 3
   },
   "file_extension": ".py",
   "mimetype": "text/x-python",
   "name": "python",
   "nbconvert_exporter": "python",
   "pygments_lexer": "ipython3",
   "version": "3.9.7"
  }
 },
 "nbformat": 4,
 "nbformat_minor": 5
}
