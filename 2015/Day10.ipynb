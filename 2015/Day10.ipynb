{
 "cells": [
  {
   "cell_type": "markdown",
   "id": "1053e7a0",
   "metadata": {},
   "source": [
    "# Part 1"
   ]
  },
  {
   "cell_type": "code",
   "execution_count": 15,
   "id": "7d1c7811",
   "metadata": {},
   "outputs": [
    {
     "name": "stdout",
     "output_type": "stream",
     "text": [
      "FINAL ANSWER: 360154\n"
     ]
    }
   ],
   "source": [
    "number = '1113122113'\n",
    "\n",
    "\n",
    "for _ in range(40):\n",
    "    n = len(number)\n",
    "    i = 0\n",
    "    new = ''\n",
    "    while i < len(number):\n",
    "        v = number[i]\n",
    "        repeats = 1\n",
    "        while i < len(number)-1 and number[i+1] == v:\n",
    "            i += 1\n",
    "            repeats += 1\n",
    "        new += str(repeats)\n",
    "        new += str(v)\n",
    "        i += 1\n",
    "    number = new\n",
    "\n",
    "\n",
    "print(f\"FINAL ANSWER: {len(number)}\")"
   ]
  },
  {
   "cell_type": "markdown",
   "id": "ad81884c",
   "metadata": {},
   "source": [
    "# Part 2"
   ]
  },
  {
   "cell_type": "code",
   "execution_count": 16,
   "id": "026e39e5",
   "metadata": {},
   "outputs": [
    {
     "name": "stdout",
     "output_type": "stream",
     "text": [
      "FINAL ANSWER: 5103798\n"
     ]
    }
   ],
   "source": [
    "number = '1113122113'\n",
    "\n",
    "\n",
    "for _ in range(50):\n",
    "    n = len(number)\n",
    "    i = 0\n",
    "    new = ''\n",
    "    while i < len(number):\n",
    "        v = number[i]\n",
    "        repeats = 1\n",
    "        while i < len(number)-1 and number[i+1] == v:\n",
    "            i += 1\n",
    "            repeats += 1\n",
    "        new += str(repeats)\n",
    "        new += str(v)\n",
    "        i += 1\n",
    "    number = new\n",
    "\n",
    "\n",
    "print(f\"FINAL ANSWER: {len(number)}\")"
   ]
  }
 ],
 "metadata": {
  "kernelspec": {
   "display_name": "Python 3 (ipykernel)",
   "language": "python",
   "name": "python3"
  },
  "language_info": {
   "codemirror_mode": {
    "name": "ipython",
    "version": 3
   },
   "file_extension": ".py",
   "mimetype": "text/x-python",
   "name": "python",
   "nbconvert_exporter": "python",
   "pygments_lexer": "ipython3",
   "version": "3.9.7"
  }
 },
 "nbformat": 4,
 "nbformat_minor": 5
}
