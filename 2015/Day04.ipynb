{
 "cells": [
  {
   "cell_type": "markdown",
   "id": "6f2dc384",
   "metadata": {},
   "source": [
    "### Part 1"
   ]
  },
  {
   "cell_type": "code",
   "execution_count": 7,
   "id": "8285af34",
   "metadata": {},
   "outputs": [
    {
     "name": "stdout",
     "output_type": "stream",
     "text": [
      "bbd0b\n"
     ]
    }
   ],
   "source": [
    "import hashlib\n",
    "message = 'bgvyzdsv'\n",
    "\n",
    "n = 1\n",
    "new = message + str(n)\n",
    "while hashlib.md5(new.encode()).hexdigest()[0:5] != '00000':\n",
    "    n += 1\n",
    "    new = message + str(n)\n",
    "\n",
    "\n",
    "print(f\"\")"
   ]
  },
  {
   "cell_type": "markdown",
   "id": "bb307c12",
   "metadata": {},
   "source": [
    "### Part 2"
   ]
  },
  {
   "cell_type": "code",
   "execution_count": null,
   "id": "cc453e4f",
   "metadata": {},
   "outputs": [],
   "source": [
    "import hashlib"
   ]
  }
 ],
 "metadata": {
  "kernelspec": {
   "display_name": "Python 3 (ipykernel)",
   "language": "python",
   "name": "python3"
  },
  "language_info": {
   "codemirror_mode": {
    "name": "ipython",
    "version": 3
   },
   "file_extension": ".py",
   "mimetype": "text/x-python",
   "name": "python",
   "nbconvert_exporter": "python",
   "pygments_lexer": "ipython3",
   "version": "3.9.7"
  }
 },
 "nbformat": 4,
 "nbformat_minor": 5
}
