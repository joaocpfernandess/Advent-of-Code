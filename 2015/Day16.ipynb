{
 "cells": [
  {
   "cell_type": "code",
   "execution_count": 4,
   "id": "0262f781",
   "metadata": {},
   "outputs": [],
   "source": [
    "import re"
   ]
  },
  {
   "cell_type": "markdown",
   "id": "58b6cf72",
   "metadata": {},
   "source": [
    "# Part 1"
   ]
  },
  {
   "cell_type": "code",
   "execution_count": 12,
   "id": "a9e1acc0",
   "metadata": {},
   "outputs": [
    {
     "name": "stdout",
     "output_type": "stream",
     "text": [
      "FINAL ANSWER: 40\n"
     ]
    }
   ],
   "source": [
    "file = open(\"Inputs/input_day16.txt\", \"r\")\n",
    "\n",
    "\n",
    "message = {\"children\": 3,\n",
    "           \"cats\": 7,\n",
    "           \"samoyeds\": 2,\n",
    "           \"pomeranians\": 3,\n",
    "           \"akitas\": 0,\n",
    "           \"vizslas\": 0,\n",
    "           \"goldfish\": 5,\n",
    "           \"trees\": 3,\n",
    "           \"cars\": 2,\n",
    "           \"perfumes\": 1}\n",
    "\n",
    "\n",
    "for line in file:\n",
    "    line = re.sub(\"[^a-zA-Z0-9 ]\", \"\", line[:-1]).split()\n",
    "    n_sue = int(line[1])\n",
    "    props = [line[2], line[4], line[6]]\n",
    "    numbers = [int(line[3]), int(line[5]), int(line[7])]\n",
    "    if message[props[0]] == numbers[0] and message[props[1]] == numbers[1] and message[props[2]] == numbers[2]:\n",
    "        break\n",
    "        \n",
    "\n",
    "print(f\"FINAL ANSWER: {n_sue}\")"
   ]
  },
  {
   "cell_type": "markdown",
   "id": "040aecce",
   "metadata": {},
   "source": [
    "# Part 2"
   ]
  },
  {
   "cell_type": "code",
   "execution_count": 11,
   "id": "ba8928cd",
   "metadata": {},
   "outputs": [
    {
     "name": "stdout",
     "output_type": "stream",
     "text": [
      "FINAL ANSWER: 241\n"
     ]
    }
   ],
   "source": [
    "file = open(\"Inputs/input_day16.txt\", \"r\")\n",
    "\n",
    "\n",
    "message = {\"children\": 3,\n",
    "           \"cats\": 7,\n",
    "           \"samoyeds\": 2,\n",
    "           \"pomeranians\": 3,\n",
    "           \"akitas\": 0,\n",
    "           \"vizslas\": 0,\n",
    "           \"goldfish\": 5,\n",
    "           \"trees\": 3,\n",
    "           \"cars\": 2,\n",
    "           \"perfumes\": 1}\n",
    "\n",
    "\n",
    "for line in file:\n",
    "    line = re.sub(\"[^a-zA-Z0-9 ]\", \"\", line[:-1]).split()\n",
    "    n_sue = int(line[1])\n",
    "    props = [line[2], line[4], line[6]]\n",
    "    numbers = [int(line[3]), int(line[5]), int(line[7])]\n",
    "    conditions = []\n",
    "    for i, p in enumerate(props):\n",
    "        if p in [\"cats\", \"trees\"]:\n",
    "            conditions.append(message[p] < numbers[i])\n",
    "        elif p in [\"pomeranians\", \"goldfish\"]:\n",
    "            conditions.append(message[p] > numbers[i])\n",
    "        else:\n",
    "            conditions.append(message[p] == numbers[i])\n",
    "    if all(conditions):\n",
    "        break\n",
    "        \n",
    "\n",
    "print(f\"FINAL ANSWER: {n_sue}\")"
   ]
  }
 ],
 "metadata": {
  "kernelspec": {
   "display_name": "Python 3 (ipykernel)",
   "language": "python",
   "name": "python3"
  },
  "language_info": {
   "codemirror_mode": {
    "name": "ipython",
    "version": 3
   },
   "file_extension": ".py",
   "mimetype": "text/x-python",
   "name": "python",
   "nbconvert_exporter": "python",
   "pygments_lexer": "ipython3",
   "version": "3.9.7"
  }
 },
 "nbformat": 4,
 "nbformat_minor": 5
}
